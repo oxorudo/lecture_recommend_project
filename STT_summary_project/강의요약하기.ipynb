{
 "cells": [
  {
   "cell_type": "code",
   "execution_count": null,
   "metadata": {},
   "outputs": [],
   "source": [
    "import yt_dlp\n",
    "\n",
    "\n",
    "# 유튜브 URL\n",
    "url = \"https://youtu.be/zVLjWIftX_o?si=zFNesrc3CTkB9pCN\"\n",
    "\n",
    "# 다운로드 옵션 (오디오만 다운로드)\n",
    "ydl_opts = {\n",
    "    \"format\": \"bestaudio/best\",\n",
    "    \"postprocessors\": [\n",
    "        {\n",
    "            \"key\": \"FFmpegExtractAudio\",\n",
    "            \"preferredcodec\": \"mp3\",\n",
    "            \"preferredquality\": \"192\",\n",
    "        }\n",
    "    ],\n",
    "}\n",
    "\n",
    "with yt_dlp.YoutubeDL(ydl_opts) as ydl:\n",
    "    ydl.download([url])"
   ]
  },
  {
   "cell_type": "code",
   "execution_count": null,
   "metadata": {},
   "outputs": [],
   "source": [
    "from moviepy.editor import AudioFileClip\n",
    "import os"
   ]
  },
  {
   "cell_type": "code",
   "execution_count": null,
   "metadata": {},
   "outputs": [],
   "source": [
    "from transformers import pipeline\n",
    "\n",
    "whisper_small = pipeline(\"automatic-speech-recognition\", \"openai/whisper-small\")"
   ]
  },
  {
   "cell_type": "code",
   "execution_count": null,
   "metadata": {},
   "outputs": [],
   "source": [
    "# 오디오 파일을 30초 단위로 나누는 함수\n",
    "def split_audio(file_path, chunk_length=30):\n",
    "    audio = AudioFileClip(file_path)\n",
    "    total_duration = int(audio.duration)\n",
    "    audio_chunks = []\n",
    "\n",
    "    for start in range(0, total_duration, chunk_length):\n",
    "        end = min(start + chunk_length, total_duration)\n",
    "        chunk = audio.subclip(start, end)\n",
    "        chunk_path = f\"chunk_{start}_{end}.mp3\"\n",
    "        chunk.write_audiofile(chunk_path)\n",
    "        audio_chunks.append(chunk_path)\n",
    "\n",
    "    return audio_chunks\n",
    "\n",
    "\n",
    "# 각 청크에서 텍스트 추출\n",
    "def transcribe_audio_chunks(chunk_files):\n",
    "    transcriptions = []\n",
    "    for chunk_file in chunk_files:\n",
    "        result = whisper_small(chunk_file, generate_kwargs={\"language\": \"english\"})\n",
    "        transcriptions.append(result[\"text\"])\n",
    "        os.remove(chunk_file)  # 임시 파일 삭제\n",
    "    return transcriptions\n",
    "\n",
    "\n",
    "# 전체 텍스트를 하나로 합침\n",
    "def merge_transcriptions(transcriptions):\n",
    "    return \" \".join(transcriptions)\n",
    "\n",
    "\n",
    "# 오디오 파일 경로\n",
    "audio_file = \"./Relating addition and subtraction ｜ Basic addition and subtraction ｜ Early Math ｜ Khan Academy [zVLjWIftX_o].mp3\"\n",
    "\n",
    "# 오디오 파일을 30초 단위로 나누고 텍스트 추출\n",
    "chunks = split_audio(audio_file)\n",
    "transcriptions = transcribe_audio_chunks(chunks)\n",
    "final_transcription = merge_transcriptions(transcriptions)\n",
    "\n",
    "# 최종 결과 출력\n",
    "print(final_transcription)"
   ]
  },
  {
   "cell_type": "code",
   "execution_count": null,
   "metadata": {},
   "outputs": [],
   "source": [
    "import openai\n",
    "\n",
    "# OpenAI API 키 설정\n",
    "openai.api_key = \"\"\n",
    "\n",
    "# 번역 및 요약할 긴 영어 텍스트\n",
    "text_to_translate_and_summarize = \"\"\"I have two green balls and three purple balls. So how many balls do I have altogether? Well, that's going to be two purple, sorry, two green balls plus three purple balls is going to be five balls altogether. And you see that right over there? There's five balls altogether. We can count them. One, two, three, four, five. Now what if we did something a little different? Let's start with the five balls. So.  We're gonna start with the five balls, and you can count them again, one, two, three, four, five. And now let's take away two, let's subtract, let's subtract two of these balls. So let's take away one and two. Well then, what are we left with? Well then, we are left with one, two, three balls. We're left with three balls. And you might already see a pattern here. Two plus three is...  equal to five, but if you start with five and you take away two, you're going to be left with three. Look at how this is arranged and look at how this is arranged. Two plus three is equal to five, but five minus two is three. Five minus two is three. And it works the other way around. If I start with five, if I start with five, and if I were to take away three, so if I subtract one, two, three, what am I left with? Well I'm left.  with one, two. I am left with two. So two plus three is five. Three plus two is five. We see that there, which is another way of saying that five minus two is three, or five minus three is two. Take a look at this for a little bit. This is a really, really important pattern, or a really important idea to understand in math. If you add two numbers and you get, say, if you add, say, a two and a three, or you add two numbers and you get another number, Well, if you take...  If you take that number and you subtract one of these, you're going to get the other number.\"\"\"\n",
    "\n",
    "# GPT-4를 사용하여 텍스트를 주제별로 나누고 번역 및 요약\n",
    "response = openai.ChatCompletion.create(\n",
    "    model=\"gpt-4\",\n",
    "    messages=[\n",
    "        {\"role\": \"system\", \"content\": \"You are a helpful assistant.\"},\n",
    "        {\n",
    "            \"role\": \"user\",\n",
    "            \"content\": f\"Translate this text to Korean, divide it by topic, and summarize each topic: {text_to_translate_and_summarize}\",\n",
    "        },\n",
    "    ],\n",
    ")\n",
    "\n",
    "# 번역 및 요약된 결과 출력\n",
    "print(response[\"choices\"][0][\"message\"][\"content\"])"
   ]
  }
 ],
 "metadata": {
  "language_info": {
   "name": "python"
  }
 },
 "nbformat": 4,
 "nbformat_minor": 2
}
