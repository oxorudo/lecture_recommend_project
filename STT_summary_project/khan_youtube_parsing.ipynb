{
 "cells": [
  {
   "cell_type": "code",
   "execution_count": 3,
   "id": "3814b835-a307-4f6f-9c4d-116f8551b814",
   "metadata": {},
   "outputs": [],
   "source": [
    "from selenium import webdriver\n",
    "from selenium.webdriver.common.by import By\n",
    "import time\n",
    "\n",
    "driver = webdriver.Chrome()\n",
    "# 새 창 뜨면 ublock 확장 프로그램 깔고 창 닫지 말고 아래 셀 실행하기."
   ]
  },
  {
   "cell_type": "code",
   "execution_count": 5,
   "id": "41682885-807f-4703-88ec-49b84eba74fb",
   "metadata": {},
   "outputs": [
    {
     "ename": "NoSuchElementException",
     "evalue": "Message: no such element: Unable to locate element: {\"method\":\"xpath\",\"selector\":\"//*[@id=\"mp4\"]/table/tbody[2]/tr[2]/td[3]/button\"}\n  (Session info: chrome=128.0.6613.138); For documentation on this error, please visit: https://www.selenium.dev/documentation/webdriver/troubleshooting/errors#no-such-element-exception\nStacktrace:\n\tGetHandleVerifier [0x00007FF640289412+29090]\n\t(No symbol) [0x00007FF6401FE239]\n\t(No symbol) [0x00007FF6400BB1DA]\n\t(No symbol) [0x00007FF64010EFE7]\n\t(No symbol) [0x00007FF64010F23C]\n\t(No symbol) [0x00007FF6401597C7]\n\t(No symbol) [0x00007FF64013672F]\n\t(No symbol) [0x00007FF6401565A2]\n\t(No symbol) [0x00007FF640136493]\n\t(No symbol) [0x00007FF6401009D1]\n\t(No symbol) [0x00007FF640101B31]\n\tGetHandleVerifier [0x00007FF6405A871D+3302573]\n\tGetHandleVerifier [0x00007FF6405F4243+3612627]\n\tGetHandleVerifier [0x00007FF6405EA417+3572135]\n\tGetHandleVerifier [0x00007FF640345EB6+801862]\n\t(No symbol) [0x00007FF64020945F]\n\t(No symbol) [0x00007FF640204FB4]\n\t(No symbol) [0x00007FF640205140]\n\t(No symbol) [0x00007FF6401F461F]\n\tBaseThreadInitThunk [0x00007FF806CE257D+29]\n\tRtlUserThreadStart [0x00007FF807B2AF28+40]\n",
     "output_type": "error",
     "traceback": [
      "\u001b[1;31m---------------------------------------------------------------------------\u001b[0m",
      "\u001b[1;31mNoSuchElementException\u001b[0m                    Traceback (most recent call last)",
      "Cell \u001b[1;32mIn[5], line 43\u001b[0m\n\u001b[0;32m     40\u001b[0m driver\u001b[38;5;241m.\u001b[39mget(url)\n\u001b[0;32m     41\u001b[0m time\u001b[38;5;241m.\u001b[39msleep(\u001b[38;5;241m3\u001b[39m)\n\u001b[1;32m---> 43\u001b[0m \u001b[43mdriver\u001b[49m\u001b[38;5;241;43m.\u001b[39;49m\u001b[43mfind_element\u001b[49m\u001b[43m(\u001b[49m\u001b[43mBy\u001b[49m\u001b[38;5;241;43m.\u001b[39;49m\u001b[43mXPATH\u001b[49m\u001b[43m,\u001b[49m\u001b[43m \u001b[49m\u001b[38;5;124;43m'\u001b[39;49m\u001b[38;5;124;43m//*[@id=\u001b[39;49m\u001b[38;5;124;43m\"\u001b[39;49m\u001b[38;5;124;43mmp4\u001b[39;49m\u001b[38;5;124;43m\"\u001b[39;49m\u001b[38;5;124;43m]/table/tbody[2]/tr[2]/td[3]/button\u001b[39;49m\u001b[38;5;124;43m'\u001b[39;49m\u001b[43m)\u001b[49m\u001b[38;5;241m.\u001b[39mclick()\n\u001b[0;32m     44\u001b[0m time\u001b[38;5;241m.\u001b[39msleep(\u001b[38;5;241m15\u001b[39m)\n\u001b[0;32m     46\u001b[0m driver\u001b[38;5;241m.\u001b[39mfind_element(By\u001b[38;5;241m.\u001b[39mXPATH, \u001b[38;5;124m'\u001b[39m\u001b[38;5;124m//*[@id=\u001b[39m\u001b[38;5;124m\"\u001b[39m\u001b[38;5;124mprocess-result\u001b[39m\u001b[38;5;124m\"\u001b[39m\u001b[38;5;124m]/div/a\u001b[39m\u001b[38;5;124m'\u001b[39m)\u001b[38;5;241m.\u001b[39mclick()\n",
      "File \u001b[1;32md:\\workspace\\Chunjae_Bigdata_9th\\9.4~9.23\\.conda\\lib\\site-packages\\selenium\\webdriver\\remote\\webdriver.py:748\u001b[0m, in \u001b[0;36mWebDriver.find_element\u001b[1;34m(self, by, value)\u001b[0m\n\u001b[0;32m    745\u001b[0m     by \u001b[38;5;241m=\u001b[39m By\u001b[38;5;241m.\u001b[39mCSS_SELECTOR\n\u001b[0;32m    746\u001b[0m     value \u001b[38;5;241m=\u001b[39m \u001b[38;5;124mf\u001b[39m\u001b[38;5;124m'\u001b[39m\u001b[38;5;124m[name=\u001b[39m\u001b[38;5;124m\"\u001b[39m\u001b[38;5;132;01m{\u001b[39;00mvalue\u001b[38;5;132;01m}\u001b[39;00m\u001b[38;5;124m\"\u001b[39m\u001b[38;5;124m]\u001b[39m\u001b[38;5;124m'\u001b[39m\n\u001b[1;32m--> 748\u001b[0m \u001b[38;5;28;01mreturn\u001b[39;00m \u001b[38;5;28;43mself\u001b[39;49m\u001b[38;5;241;43m.\u001b[39;49m\u001b[43mexecute\u001b[49m\u001b[43m(\u001b[49m\u001b[43mCommand\u001b[49m\u001b[38;5;241;43m.\u001b[39;49m\u001b[43mFIND_ELEMENT\u001b[49m\u001b[43m,\u001b[49m\u001b[43m \u001b[49m\u001b[43m{\u001b[49m\u001b[38;5;124;43m\"\u001b[39;49m\u001b[38;5;124;43musing\u001b[39;49m\u001b[38;5;124;43m\"\u001b[39;49m\u001b[43m:\u001b[49m\u001b[43m \u001b[49m\u001b[43mby\u001b[49m\u001b[43m,\u001b[49m\u001b[43m \u001b[49m\u001b[38;5;124;43m\"\u001b[39;49m\u001b[38;5;124;43mvalue\u001b[39;49m\u001b[38;5;124;43m\"\u001b[39;49m\u001b[43m:\u001b[49m\u001b[43m \u001b[49m\u001b[43mvalue\u001b[49m\u001b[43m}\u001b[49m\u001b[43m)\u001b[49m[\u001b[38;5;124m\"\u001b[39m\u001b[38;5;124mvalue\u001b[39m\u001b[38;5;124m\"\u001b[39m]\n",
      "File \u001b[1;32md:\\workspace\\Chunjae_Bigdata_9th\\9.4~9.23\\.conda\\lib\\site-packages\\selenium\\webdriver\\remote\\webdriver.py:354\u001b[0m, in \u001b[0;36mWebDriver.execute\u001b[1;34m(self, driver_command, params)\u001b[0m\n\u001b[0;32m    352\u001b[0m response \u001b[38;5;241m=\u001b[39m \u001b[38;5;28mself\u001b[39m\u001b[38;5;241m.\u001b[39mcommand_executor\u001b[38;5;241m.\u001b[39mexecute(driver_command, params)\n\u001b[0;32m    353\u001b[0m \u001b[38;5;28;01mif\u001b[39;00m response:\n\u001b[1;32m--> 354\u001b[0m     \u001b[38;5;28;43mself\u001b[39;49m\u001b[38;5;241;43m.\u001b[39;49m\u001b[43merror_handler\u001b[49m\u001b[38;5;241;43m.\u001b[39;49m\u001b[43mcheck_response\u001b[49m\u001b[43m(\u001b[49m\u001b[43mresponse\u001b[49m\u001b[43m)\u001b[49m\n\u001b[0;32m    355\u001b[0m     response[\u001b[38;5;124m\"\u001b[39m\u001b[38;5;124mvalue\u001b[39m\u001b[38;5;124m\"\u001b[39m] \u001b[38;5;241m=\u001b[39m \u001b[38;5;28mself\u001b[39m\u001b[38;5;241m.\u001b[39m_unwrap_value(response\u001b[38;5;241m.\u001b[39mget(\u001b[38;5;124m\"\u001b[39m\u001b[38;5;124mvalue\u001b[39m\u001b[38;5;124m\"\u001b[39m, \u001b[38;5;28;01mNone\u001b[39;00m))\n\u001b[0;32m    356\u001b[0m     \u001b[38;5;28;01mreturn\u001b[39;00m response\n",
      "File \u001b[1;32md:\\workspace\\Chunjae_Bigdata_9th\\9.4~9.23\\.conda\\lib\\site-packages\\selenium\\webdriver\\remote\\errorhandler.py:229\u001b[0m, in \u001b[0;36mErrorHandler.check_response\u001b[1;34m(self, response)\u001b[0m\n\u001b[0;32m    227\u001b[0m         alert_text \u001b[38;5;241m=\u001b[39m value[\u001b[38;5;124m\"\u001b[39m\u001b[38;5;124malert\u001b[39m\u001b[38;5;124m\"\u001b[39m]\u001b[38;5;241m.\u001b[39mget(\u001b[38;5;124m\"\u001b[39m\u001b[38;5;124mtext\u001b[39m\u001b[38;5;124m\"\u001b[39m)\n\u001b[0;32m    228\u001b[0m     \u001b[38;5;28;01mraise\u001b[39;00m exception_class(message, screen, stacktrace, alert_text)  \u001b[38;5;66;03m# type: ignore[call-arg]  # mypy is not smart enough here\u001b[39;00m\n\u001b[1;32m--> 229\u001b[0m \u001b[38;5;28;01mraise\u001b[39;00m exception_class(message, screen, stacktrace)\n",
      "\u001b[1;31mNoSuchElementException\u001b[0m: Message: no such element: Unable to locate element: {\"method\":\"xpath\",\"selector\":\"//*[@id=\"mp4\"]/table/tbody[2]/tr[2]/td[3]/button\"}\n  (Session info: chrome=128.0.6613.138); For documentation on this error, please visit: https://www.selenium.dev/documentation/webdriver/troubleshooting/errors#no-such-element-exception\nStacktrace:\n\tGetHandleVerifier [0x00007FF640289412+29090]\n\t(No symbol) [0x00007FF6401FE239]\n\t(No symbol) [0x00007FF6400BB1DA]\n\t(No symbol) [0x00007FF64010EFE7]\n\t(No symbol) [0x00007FF64010F23C]\n\t(No symbol) [0x00007FF6401597C7]\n\t(No symbol) [0x00007FF64013672F]\n\t(No symbol) [0x00007FF6401565A2]\n\t(No symbol) [0x00007FF640136493]\n\t(No symbol) [0x00007FF6401009D1]\n\t(No symbol) [0x00007FF640101B31]\n\tGetHandleVerifier [0x00007FF6405A871D+3302573]\n\tGetHandleVerifier [0x00007FF6405F4243+3612627]\n\tGetHandleVerifier [0x00007FF6405EA417+3572135]\n\tGetHandleVerifier [0x00007FF640345EB6+801862]\n\t(No symbol) [0x00007FF64020945F]\n\t(No symbol) [0x00007FF640204FB4]\n\t(No symbol) [0x00007FF640205140]\n\t(No symbol) [0x00007FF6401F461F]\n\tBaseThreadInitThunk [0x00007FF806CE257D+29]\n\tRtlUserThreadStart [0x00007FF807B2AF28+40]\n"
     ]
    }
   ],
   "source": [
    "url_ori = \"\"\"https://youtu.be/4vNloi-zNjU\n",
    "https://youtu.be/_QKR8I5VE-w\n",
    "https://youtu.be/9EEJU4Ox-TE\n",
    "https://youtu.be/arY-EUZDNfk\n",
    "https://youtu.be/-rxUip6Ulnw\n",
    "https://youtu.be/ypxHVqE26gI\n",
    "https://youtu.be/ayRpoJgph0E\n",
    "https://youtu.be/HXg_a9oJ5nA\n",
    "https://youtu.be/Muba9-W2FOQ\n",
    "https://youtu.be/mqsIJucBn6c\n",
    "https://youtu.be/DLno3b-Xsmo\n",
    "https://youtu.be/mI84WDfhuYA\n",
    "https://youtu.be/6bQ6HJsAv4A\n",
    "https://youtu.be/y2RHWA7t0WM\n",
    "https://youtu.be/PdHSs5_kx24\n",
    "https://youtu.be/UhMM68fq9FA\n",
    "https://youtu.be/4uQtJDf7drU\n",
    "https://youtu.be/jFSenp9ueaI\n",
    "https://youtu.be/AGFO-ROxH_I\n",
    "https://youtu.be/gnCL_0uA6Ds\n",
    "https://youtu.be/KgoXx_58QyQ\n",
    "https://youtu.be/ZS1OZj_oWao\n",
    "https://youtu.be/4smVBLi3DxU\n",
    "https://youtu.be/DtWovvMnPrk\n",
    "https://youtu.be/Ka82QC4QvGA\n",
    "https://youtu.be/inlMrf2d-k4\n",
    "https://youtu.be/wPZIa3SjPF0\n",
    "https://youtu.be/1pHhMX0_4Bw\n",
    "\"\"\"\n",
    "\n",
    "urls = url_ori.split(\"\\n\")\n",
    "\n",
    "for u in urls:\n",
    "    if \"youtu.be\" in u:\n",
    "        url_part = u.split(\"/\")[-1].split(\"?\")[0]\n",
    "    else:\n",
    "        url_part = u.split(\"?v=\")[-1].split(\"&list\")[0]\n",
    "\n",
    "    url = f\"https://www.y2mate.com/kr/youtube/{url_part}\"\n",
    "    driver.get(url)\n",
    "    time.sleep(3)\n",
    "\n",
    "    driver.find_element(\n",
    "        By.XPATH, '//*[@id=\"mp4\"]/table/tbody[2]/tr[2]/td[3]/button'\n",
    "    ).click()\n",
    "    time.sleep(15)\n",
    "\n",
    "    driver.find_element(By.XPATH, '//*[@id=\"process-result\"]/div/a').click()\n",
    "    time.sleep(2)"
   ]
  },
  {
   "cell_type": "code",
   "execution_count": 5,
   "id": "0f295de4-d28e-48d4-a660-7f3ab1456301",
   "metadata": {},
   "outputs": [
    {
     "data": {
      "text/plain": [
       "'https://youtu.be/4vNloi-zNjU'"
      ]
     },
     "execution_count": 5,
     "metadata": {},
     "output_type": "execute_result"
    }
   ],
   "source": [
    "u"
   ]
  }
 ],
 "metadata": {
  "kernelspec": {
   "display_name": "Python 3 (ipykernel)",
   "language": "python",
   "name": "python3"
  },
  "language_info": {
   "codemirror_mode": {
    "name": "ipython",
    "version": 3
   },
   "file_extension": ".py",
   "mimetype": "text/x-python",
   "name": "python",
   "nbconvert_exporter": "python",
   "pygments_lexer": "ipython3",
   "version": "3.8.19"
  }
 },
 "nbformat": 4,
 "nbformat_minor": 5
}
