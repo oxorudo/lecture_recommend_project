{
 "cells": [
  {
   "cell_type": "code",
   "execution_count": 11,
   "metadata": {},
   "outputs": [
    {
     "name": "stderr",
     "output_type": "stream",
     "text": [
      "\n",
      "\n",
      "\u001b[A\u001b[A                                                              \n",
      "\u001b[A"
     ]
    },
    {
     "name": "stdout",
     "output_type": "stream",
     "text": [
      "MoviePy - Writing audio in extracted_audio.mp3\n"
     ]
    },
    {
     "name": "stderr",
     "output_type": "stream",
     "text": [
      "                                                                      \n",
      "\n",
      "\u001b[A\u001b[A                                                              \n",
      "\u001b[A"
     ]
    },
    {
     "name": "stdout",
     "output_type": "stream",
     "text": [
      "MoviePy - Done.\n",
      "음성 파일이 extracted_audio.mp3에 저장되었습니다.\n"
     ]
    }
   ],
   "source": [
    "from moviepy.editor import VideoFileClip\n",
    "\n",
    "# 동영상 파일 경로\n",
    "video_path = \"./khan/Video_ Comparing numbers of objects.mp4\"\n",
    "\n",
    "# 동영상 로드\n",
    "video = VideoFileClip(video_path)\n",
    "\n",
    "# 음성 파일로 저장\n",
    "audio_path = \"extracted_audio.mp3\"\n",
    "video.audio.write_audiofile(audio_path)\n",
    "\n",
    "print(f\"음성 파일이 {audio_path}에 저장되었습니다.\")"
   ]
  },
  {
   "cell_type": "code",
   "execution_count": 12,
   "metadata": {},
   "outputs": [],
   "source": [
    "from moviepy.editor import AudioFileClip\n",
    "import os"
   ]
  },
  {
   "cell_type": "code",
   "execution_count": 13,
   "metadata": {},
   "outputs": [],
   "source": [
    "from transformers import pipeline\n",
    "\n",
    "whisper_small = pipeline(\"automatic-speech-recognition\", 'openai/whisper-small')"
   ]
  },
  {
   "cell_type": "code",
   "execution_count": 1,
   "metadata": {},
   "outputs": [
    {
     "ename": "NameError",
     "evalue": "name 'AudioFileClip' is not defined",
     "output_type": "error",
     "traceback": [
      "\u001b[1;31m---------------------------------------------------------------------------\u001b[0m",
      "\u001b[1;31mNameError\u001b[0m                                 Traceback (most recent call last)",
      "Cell \u001b[1;32mIn[1], line 33\u001b[0m\n\u001b[0;32m     30\u001b[0m audio_file \u001b[38;5;241m=\u001b[39m \u001b[38;5;124m\"\u001b[39m\u001b[38;5;124m./extracted_audio.mp3\u001b[39m\u001b[38;5;124m\"\u001b[39m\n\u001b[0;32m     32\u001b[0m \u001b[38;5;66;03m# 오디오 파일을 30초 단위로 나누고 텍스트 추출\u001b[39;00m\n\u001b[1;32m---> 33\u001b[0m chunks \u001b[38;5;241m=\u001b[39m \u001b[43msplit_audio\u001b[49m\u001b[43m(\u001b[49m\u001b[43maudio_file\u001b[49m\u001b[43m)\u001b[49m\n\u001b[0;32m     34\u001b[0m transcriptions \u001b[38;5;241m=\u001b[39m transcribe_audio_chunks(chunks)\n\u001b[0;32m     35\u001b[0m final_transcription \u001b[38;5;241m=\u001b[39m merge_transcriptions(transcriptions)\n",
      "Cell \u001b[1;32mIn[1], line 3\u001b[0m, in \u001b[0;36msplit_audio\u001b[1;34m(file_path, chunk_length)\u001b[0m\n\u001b[0;32m      2\u001b[0m \u001b[38;5;28;01mdef\u001b[39;00m \u001b[38;5;21msplit_audio\u001b[39m(file_path, chunk_length\u001b[38;5;241m=\u001b[39m\u001b[38;5;241m30\u001b[39m):\n\u001b[1;32m----> 3\u001b[0m     audio \u001b[38;5;241m=\u001b[39m \u001b[43mAudioFileClip\u001b[49m(file_path)\n\u001b[0;32m      4\u001b[0m     total_duration \u001b[38;5;241m=\u001b[39m \u001b[38;5;28mint\u001b[39m(audio\u001b[38;5;241m.\u001b[39mduration)\n\u001b[0;32m      5\u001b[0m     audio_chunks \u001b[38;5;241m=\u001b[39m []\n",
      "\u001b[1;31mNameError\u001b[0m: name 'AudioFileClip' is not defined"
     ]
    }
   ],
   "source": [
    "# 오디오 파일을 30초 단위로 나누는 함수\n",
    "def split_audio(file_path, chunk_length=30):\n",
    "    audio = AudioFileClip(file_path)\n",
    "    total_duration = int(audio.duration)\n",
    "    audio_chunks = []\n",
    "\n",
    "    for start in range(0, total_duration, chunk_length):\n",
    "        end = min(start + chunk_length, total_duration)\n",
    "        chunk = audio.subclip(start, end)\n",
    "        chunk_path = f\"chunk_{start}_{end}.mp3\"\n",
    "        chunk.write_audiofile(chunk_path)\n",
    "        audio_chunks.append(chunk_path)\n",
    "\n",
    "    return audio_chunks\n",
    "\n",
    "# 각 청크에서 텍스트 추출\n",
    "def transcribe_audio_chunks(chunk_files):\n",
    "    transcriptions = []\n",
    "    for chunk_file in chunk_files:\n",
    "        result = whisper_small(chunk_file, generate_kwargs={'language': 'english'})\n",
    "        transcriptions.append(result['text'])\n",
    "        os.remove(chunk_file)  # 임시 파일 삭제\n",
    "    return transcriptions\n",
    "\n",
    "# 전체 텍스트를 하나로 합침\n",
    "def merge_transcriptions(transcriptions):\n",
    "    return \" \".join(transcriptions)\n",
    "\n",
    "# 오디오 파일 경로\n",
    "audio_file = \"./extracted_audio.mp3\"\n",
    "\n",
    "# 오디오 파일을 30초 단위로 나누고 텍스트 추출\n",
    "chunks = split_audio(audio_file)\n",
    "transcriptions = transcribe_audio_chunks(chunks)\n",
    "final_transcription = merge_transcriptions(transcriptions)\n",
    "\n",
    "# 최종 결과 출력\n",
    "print(final_transcription)"
   ]
  },
  {
   "cell_type": "code",
   "execution_count": 15,
   "metadata": {},
   "outputs": [
    {
     "data": {
      "text/plain": [
       "\" Gavin has these horses. Is the number of horses in each picture below more than, less than, or same as the number of horses Gavin has? So let's first look at how many horses Gavin has. He has one, two, three, four, five, six horses. Okay, so let's remember that. and let's compare each of these amounts of horse.  to the six horses that Gavin has. So let's look over here. So over here, we have one, two, three, four, five, six horses. So this is the same number that Gavin has. They're just arranged differently. So this is the same. We'll put it in the same-as bucket. Now here we have one, two, three, four, five horses. So this is less than the c-  six horses that Gavin has. Five is less than six. Here, and I can just look at this and see that there's more than six, but we can count them. We have one, two, three, four, five, and then another five, that's going to be 10. Or we can say one, two, three, four, five, six, seven, eight, nine, 10. Well, 10 is more than six. 10 is more than six, so we'll put it in the more than bucket. Now here, we have four and four. Well that's going to be...  1, 2, 3, 4, 5, 6, 7, 8. Again, that is more than the 6 up here. That's more than 6. And then here we have 1, 2, 3, 4 horses. Well, 4 is less than 6. So I will put that in the less than bucket. Just like that. And let's check our answer to see how we did. Thank you.  We got it right.\""
      ]
     },
     "execution_count": 15,
     "metadata": {},
     "output_type": "execute_result"
    }
   ],
   "source": [
    "final_transcription"
   ]
  },
  {
   "cell_type": "code",
   "execution_count": 2,
   "metadata": {},
   "outputs": [
    {
     "name": "stdout",
     "output_type": "stream",
     "text": [
      "It appears that the text you've provided (\"asdfasdfasdfasdfasdfasdfasdfadsfasdfasdfasdf\") doesn't contain any specific information relevant to an elementary school math lecture. It looks like random text or a placeholder. If you provide a proper text or math lecture content, I'd be glad to help with translating it into Korean, dividing it by topic, and summarizing each topic. Please provide the correct text for further assistance.\n"
     ]
    }
   ],
   "source": [
    "import openai\n",
    "\n",
    "# OpenAI API 키 설정\n",
    "openai.api_key = ''\n",
    "\n",
    "# 번역 및 요약할 긴 영어 텍스트\n",
    "text_to_translate_and_summarize = f\"\"\"asdfasdfasdfasdfasdfasdfasdfadsfasdfasdfasdf\"\"\"\n",
    "\n",
    "# GPT-4를 사용하여 텍스트를 주제별로 나누고 번역 및 요약\n",
    "response = openai.ChatCompletion.create(\n",
    "  model=\"gpt-4o\",\n",
    "  messages=[\n",
    "        {\"role\": \"system\", \"content\": \"You are a helpful assistant.\"},\n",
    "        {\"role\": \"user\", \"content\": f\"This text is elementary school math lecture's content. Translate this text to Korean, divide it by topic, and summarize each topic: {text_to_translate_and_summarize}\"},\n",
    "        # {\"role\": \"user\", \"content\": \"Now, based on the translated text, analyze the teaching methods and explanation styles used in the lecture. Specifically, look at how concepts are introduced, whether problem-solving steps are explained clearly, and if there are any patterns in how the teacher interacts with students or presents mathematical ideas. in Korean.\"}\n",
    "    ]\n",
    ")\n",
    "\n",
    "# 번역 및 요약된 결과 출력\n",
    "print(response['choices'][0]['message']['content'])"
   ]
  }
 ],
 "metadata": {
  "kernelspec": {
   "display_name": "Python 3",
   "language": "python",
   "name": "python3"
  },
  "language_info": {
   "codemirror_mode": {
    "name": "ipython",
    "version": 3
   },
   "file_extension": ".py",
   "mimetype": "text/x-python",
   "name": "python",
   "nbconvert_exporter": "python",
   "pygments_lexer": "ipython3",
   "version": "3.8.19"
  }
 },
 "nbformat": 4,
 "nbformat_minor": 2
}
